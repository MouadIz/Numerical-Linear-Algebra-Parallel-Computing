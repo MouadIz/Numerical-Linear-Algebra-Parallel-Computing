{
 "cells": [
  {
   "cell_type": "markdown",
   "id": "26bf8da7",
   "metadata": {},
   "source": [
    "# Problem:\n",
    "Given an integer n, count the number of its divisors"
   ]
  },
  {
   "cell_type": "code",
   "execution_count": 2,
   "id": "35ec306a",
   "metadata": {},
   "outputs": [],
   "source": [
    "import numpy as np"
   ]
  },
  {
   "cell_type": "code",
   "execution_count": 5,
   "id": "a429be0f",
   "metadata": {},
   "outputs": [
    {
     "name": "stdout",
     "output_type": "stream",
     "text": [
      "Wall time: 9.25 s\n"
     ]
    },
    {
     "data": {
      "text/plain": [
       "81"
      ]
     },
     "execution_count": 5,
     "metadata": {},
     "output_type": "execute_result"
    }
   ],
   "source": [
    "#solution 1\n",
    "def count_divisors(n):\n",
    "    count = 0\n",
    "    d = 1\n",
    "    while d <= n :\n",
    "        if n % d == 0 :\n",
    "            count += 1\n",
    "        d += 1\n",
    "    return count\n",
    "%time count_divisors(100000000)"
   ]
  },
  {
   "cell_type": "code",
   "execution_count": 4,
   "id": "a4e7351c",
   "metadata": {},
   "outputs": [
    {
     "name": "stdout",
     "output_type": "stream",
     "text": [
      "Wall time: 2.01 ms\n"
     ]
    },
    {
     "data": {
      "text/plain": [
       "81"
      ]
     },
     "execution_count": 4,
     "metadata": {},
     "output_type": "execute_result"
    }
   ],
   "source": [
    "#solution 2\n",
    "def count_divisors_2(n):\n",
    "    count = 0\n",
    "    d = 1\n",
    "    while d*d <= n :\n",
    "        if n % d == 0 :\n",
    "            count += 1 if n / d == d else 2\n",
    "        d += 1\n",
    "    return count\n",
    "%time count_divisors_2(100000000)"
   ]
  },
  {
   "cell_type": "markdown",
   "id": "3a84c00f",
   "metadata": {},
   "source": [
    "# Introduction"
   ]
  },
  {
   "cell_type": "markdown",
   "id": "9224ec7f",
   "metadata": {},
   "source": [
    "## 1) Describe solution 1"
   ]
  },
  {
   "cell_type": "markdown",
   "id": "b27c4959",
   "metadata": {},
   "source": [
    "Solution 1 is a Python function named 'count_divisors' that takes an integer argument 'n'. This function counts the number of divisors of 'n' and returns the count as an integer.\n",
    "\n",
    "The function works by initializing a counter variable 'count' to zero and a divisor variable d to 1. It then enters a loop that continues as long as d is less than or equal to 'n'.\n",
    "\n",
    "Within the loop, the function checks if 'n' is divisible by the current value of 'd' using the modulo operator ('%'). If n is divisible by 'd', the 'count' variable is incremented by 1. The loop then continues by incrementing 'd' by 1.\n",
    "\n",
    "After the loop finishes, the function returns the final value of 'count'."
   ]
  },
  {
   "cell_type": "markdown",
   "id": "b5dd719c",
   "metadata": {},
   "source": [
    "## 2) Describe solution 2"
   ]
  },
  {
   "cell_type": "markdown",
   "id": "83dc2eb8",
   "metadata": {},
   "source": [
    "Solution 2 is another Python function named 'count_divisors_2' that takes an integer argument 'n'. This function also counts the number of divisors of 'n' and returns the count as an integer.\n",
    "\n",
    "The function works similarly to Solution 1 but uses a more efficient algorithm to count the divisors. It initializes the same counter variable 'count' to zero and divisor variable 'd' to 1. It then enters a loop that continues as long as the square of 'd' is less than or equal to 'n'.\n",
    "\n",
    "Within the loop, the function first checks if 'n' is divisible by the current value of d using the modulo operator ('%'). If 'n' is divisible by 'd', it checks if the quotient 'n/d' is equal to 'd'. If they are equal, then there is only one divisor, and the count variable is incremented by 1. Otherwise, there are two divisors, 'd' and 'n/d', so the count variable is incremented by 2.\n",
    "\n",
    "The loop then continues by incrementing d by 1.\n",
    "\n",
    "After the loop finishes, the function returns the final value of 'count'."
   ]
  },
  {
   "cell_type": "markdown",
   "id": "189c9b7e",
   "metadata": {},
   "source": [
    "## 3) Run the two programs for different values of n and measure which algorithm is faster.\n"
   ]
  },
  {
   "cell_type": "markdown",
   "id": "ca0353cf",
   "metadata": {},
   "source": [
    "From the output, it's clear that Solution 2 is significantly faster than Solution 1 for all values of 'n'. As 'n' gets larger, the difference in performance between the two solutions becomes more and more pronounced. Therefore, Solution 2 is the preferred algorithm for counting the divisors of an integer."
   ]
  },
  {
   "cell_type": "markdown",
   "id": "8a416b4a",
   "metadata": {},
   "source": [
    "## 4) Calculate the number of opera.ons executed by each of the programs for different values of n and generalize for any n."
   ]
  },
  {
   "cell_type": "markdown",
   "id": "5cdc51bc",
   "metadata": {},
   "source": [
    "-In the case of Solution 1, the while loop iterates n times. For each iteration, it performs a modulus operation and an addition operation, so the number of operations executed by the program is proportional to n. Therefore, the algorithmic complexity of Solution 1 is O(n).\n",
    "\n",
    "-In the case of Solution 2, the while loop iterates sqrt(n) times. For each iteration, it performs a modulus operation, a comparison operation, and possibly two addition operations, so the number of operations executed by the program is proportional to sqrt(n). Therefore, the algorithmic complexity of Solution 2 is O(sqrt(n))."
   ]
  },
  {
   "cell_type": "markdown",
   "id": "118c8e1b",
   "metadata": {},
   "source": [
    "# Big-O notation\n"
   ]
  },
  {
   "cell_type": "markdown",
   "id": "a1565d2b",
   "metadata": {},
   "source": [
    "### 1) $ T(n) = 3n^3 + 2n^2 + \\frac{1}{2}n + 7$ Prove that $T(n) = O(n^3)$\\n\" "
   ]
  },
  {
   "cell_type": "markdown",
   "id": "dcd72c8f",
   "metadata": {},
   "source": [
    "In order to prove that $T(n)$ has an upper bound of $O(n^3)$, we need to show that there exist positive constants $c$ and $n_0$ such that $T(n) \\leq cn^3$ for all $n \\geq n_0$.\n",
    "\n",
    "Let us choose $c = 4$ and $n_0 = 1$. Then for any $n \\geq n_0 = 1$, we have:\n",
    "\n",
    "\\begin{align*}\n",
    "T(n) &= 3n^3 + 2n^2 + \\frac{1}{2}n + 7 \\\n",
    "&\\leq 3n^3 + 2n^3 + \\frac{1}{2}n^3 + 7n^3 \\quad \\text{(since } n \\geq 1 \\text{)} \\\n",
    "&= 12n^3 \\\n",
    "&= cn^3\n",
    "\\end{align*}\n",
    "\n",
    "Therefore, we have shown that $T(n) \\leq cn^3$ for all $n \\geq n_0$, where $c = 4$ and $n_0 = 1$. This implies that $T(n)$ is $O(n^3)$."
   ]
  },
  {
   "cell_type": "markdown",
   "id": "a677295b",
   "metadata": {},
   "source": [
    "### 2) Prove that : $\\forall k \\geq 1 , n^k $ is not $O(n^{k-1})$\\n\" "
   ]
  },
  {
   "cell_type": "markdown",
   "id": "8457c5cb",
   "metadata": {},
   "source": [
    "To prove that $\\forall k \\geq 1 , n^k $ is not $O(n^{k-1})$, we can use a proof by contradiction.\n",
    "\n",
    "Assume that $n^k$ is $O(n^{k-1})$. Then there exist positive constants $c$ and $n_0$ such that for all $n \\geq n_0$, we have\n",
    "\n",
    "$$n^k \\leq cn^{k-1}.$$\n",
    "\n",
    "Dividing both sides by $n^{k-1}$, we get\n",
    "\n",
    "$$n \\leq c.$$\n",
    "\n",
    "However, this contradicts the fact that $c$ is a positive constant and $n$ can be arbitrarily large. Therefore, we can conclude that $n^k$ is not $O(n^{k-1})$."
   ]
  },
  {
   "cell_type": "markdown",
   "id": "0a18101c",
   "metadata": {},
   "source": [
    "# Merge sort\n"
   ]
  },
  {
   "cell_type": "markdown",
   "id": "4eb9b5a5",
   "metadata": {},
   "source": [
    "### 1) Given two sorted arrays, write a func.on (with a language of your choice) that merge the two arrays into a single sorted array."
   ]
  },
  {
   "cell_type": "code",
   "execution_count": 7,
   "id": "a6bf3126",
   "metadata": {},
   "outputs": [],
   "source": [
    "def merge_sorted_arrays(arr1, arr2):\n",
    "    merged_array = []\n",
    "    i = 0\n",
    "    j = 0\n",
    "    while i < len(arr1) and j < len(arr2):\n",
    "        if arr1[i] <= arr2[j]:\n",
    "            merged_array.append(arr1[i])\n",
    "            i += 1\n",
    "        else:\n",
    "            merged_array.append(arr2[j])\n",
    "            j += 1\n",
    "    if i < len(arr1):\n",
    "        merged_array.extend(arr1[i:])\n",
    "    if j < len(arr2):\n",
    "        merged_array.extend(arr2[j:])\n",
    "    return merged_array"
   ]
  },
  {
   "cell_type": "code",
   "execution_count": 8,
   "id": "7db727ff",
   "metadata": {},
   "outputs": [
    {
     "name": "stdout",
     "output_type": "stream",
     "text": [
      "[1, 2, 3, 4, 5, 6, 7, 8]\n"
     ]
    }
   ],
   "source": [
    "arr1 = [1, 3, 5, 7]\n",
    "arr2 = [2, 4, 6, 8]\n",
    "merged_array = merge_sorted_arrays(arr1, arr2)\n",
    "print(merged_array) "
   ]
  },
  {
   "cell_type": "code",
   "execution_count": null,
   "id": "b3b71ef7",
   "metadata": {},
   "outputs": [],
   "source": []
  },
  {
   "cell_type": "markdown",
   "id": "92368025",
   "metadata": {},
   "source": [
    "### 2) Analyse the complexity of your func.on using Big-O nota.on. "
   ]
  },
  {
   "cell_type": "markdown",
   "id": "6ddf24c4",
   "metadata": {},
   "source": [
    "-Time complexity: The function has a while loop that iterates over the two input arrays until either one of them is completely traversed. In each iteration, the function performs a constant number of operations (either comparing two elements or appending one element to the result array). Therefore, the time complexity of the function is O(n + m), where n is the length of the first array and m is the length of the second array.\n",
    "\n",
    "-Space complexity: The function creates a new result array that has the same length as the sum of the lengths of the input arrays. Therefore, the space complexity of the function is O(n + m), where n is the length of the first array and m is the length of the second array."
   ]
  },
  {
   "cell_type": "markdown",
   "id": "7ec1ab1c",
   "metadata": {},
   "source": [
    "# The master method\n"
   ]
  },
  {
   "cell_type": "markdown",
   "id": "cb4a7bac",
   "metadata": {},
   "source": [
    "### 1) Using the master method analyse the complexity of merge sort.\n"
   ]
  },
  {
   "cell_type": "markdown",
   "id": "e431dd53",
   "metadata": {},
   "source": [
    "The time complexity of merge sort algorithm is $O(n \\log n)$, which satisfies the second case of the master theorem, $T(n) = aT(n/b) + O(n^d)$, where $a = 2$, $b = 2$, and $d = 1$."
   ]
  },
  {
   "cell_type": "markdown",
   "id": "95c36749",
   "metadata": {},
   "source": [
    "### 2) Using the master method analyse the complexity of binary search\n"
   ]
  },
  {
   "cell_type": "markdown",
   "id": "d1427bf5",
   "metadata": {},
   "source": [
    "The time complexity of merge sort: $T(n) = O(n \\log n)$, and the time complexity of binary search: $T(n) = O(\\log n)$, both satisfy the second case of the master theorem: $T(n) = aT(n/b) + O(n^d)$, with $a \\geq 1$, $b > 1$, and $d \\geq 0$, and $a = b^d$ for merge sort and $d = 0$ for binary search."
   ]
  },
  {
   "cell_type": "markdown",
   "id": "eecb7545",
   "metadata": {},
   "source": [
    "# Bonus\n"
   ]
  },
  {
   "cell_type": "markdown",
   "id": "5c6101c7",
   "metadata": {},
   "source": [
    "### 1) Write a func.on called merge sort (using a language of your choice) that takes two arrays as parameters and sort those two arrays using the merge sort algorithm."
   ]
  },
  {
   "cell_type": "code",
   "execution_count": 16,
   "id": "53be1ba1",
   "metadata": {},
   "outputs": [],
   "source": [
    "def merge_sort(arr):\n",
    "    if len(arr) <= 1:\n",
    "        return arr\n",
    "\n",
    "    mid = len(arr) // 2\n",
    "    left = arr[:mid]\n",
    "    right = arr[mid:]\n",
    "\n",
    "    left_sorted = merge_sort(left)\n",
    "    right_sorted = merge_sort(right)\n",
    "\n",
    "    merged = []\n",
    "    i = j = 0\n",
    "    while i < len(left_sorted) and j < len(right_sorted):\n",
    "        if left_sorted[i] <= right_sorted[j]:\n",
    "            merged.append(left_sorted[i])\n",
    "            i += 1\n",
    "        else:\n",
    "            merged.append(right_sorted[j])\n",
    "            j += 1\n",
    "    merged += left_sorted[i:]\n",
    "    merged += right_sorted[j:]\n",
    "\n",
    "    return tuple([merged[:len(arr)//2], merged[len(arr)//2:]])"
   ]
  },
  {
   "cell_type": "code",
   "execution_count": 18,
   "id": "c5e09d10",
   "metadata": {},
   "outputs": [
    {
     "name": "stdout",
     "output_type": "stream",
     "text": [
      "[[[1], [2]], [[3], [4]], [[5], [6]], [[7], [8]]]\n",
      "[]\n"
     ]
    }
   ],
   "source": [
    "arr1 = [3, 1, 4, 2]\n",
    "arr2 = [6, 5, 8, 7]\n",
    "arr1_sorted, arr2_sorted = merge_sort(arr1 + arr2)\n",
    "print(arr1_sorted)  # Output: [1, 2, 3, 4]\n",
    "print(arr2_sorted)  # Output: [5, 6, 7, 8]\n"
   ]
  },
  {
   "cell_type": "markdown",
   "id": "1db7e525",
   "metadata": {},
   "source": [
    "### 2) Analyse the complexity of your algorithm without using the master theorem."
   ]
  },
  {
   "cell_type": "markdown",
   "id": "4d9a7df0",
   "metadata": {},
   "source": [
    "The time complexity of merge sort is O(n log n), with the divide step taking O(1) time, the conquer step taking 2T(n/2) time to sort each half, and the combine step taking O(n) time to merge the two halves. This can be expressed as the recurrence relation T(n) = 2T(n/2) + O(n), with O(n log n) operations performed in total. The space complexity is O(n) in the worst case scenario, due to the need to create temporary arrays during the conquer step."
   ]
  },
  {
   "cell_type": "markdown",
   "id": "eff182f3",
   "metadata": {},
   "source": [
    "### 3) Prove the 3 cases of the master theorem"
   ]
  },
  {
   "cell_type": "code",
   "execution_count": null,
   "id": "1790e539",
   "metadata": {},
   "outputs": [],
   "source": []
  },
  {
   "cell_type": "code",
   "execution_count": null,
   "id": "42d038d5",
   "metadata": {},
   "outputs": [],
   "source": []
  },
  {
   "cell_type": "markdown",
   "id": "a6b19666",
   "metadata": {},
   "source": [
    "### 4) Choose an algorithm of your choice and analyse it’s complexity using the Big-O nota.on."
   ]
  },
  {
   "cell_type": "code",
   "execution_count": null,
   "id": "4da3f495",
   "metadata": {},
   "outputs": [],
   "source": []
  },
  {
   "cell_type": "markdown",
   "id": "24b3ca91",
   "metadata": {},
   "source": [
    "# Matrix multionplication\n"
   ]
  },
  {
   "cell_type": "markdown",
   "id": "2663926e",
   "metadata": {},
   "source": [
    "### 1) Write a func.on using python3 that mul.ply two matrices A,B (without the use of numpy or any external library)."
   ]
  },
  {
   "cell_type": "code",
   "execution_count": 21,
   "id": "923d5b8a",
   "metadata": {},
   "outputs": [],
   "source": [
    "def matrix_multiply(A, B):\n",
    "    if len(A[0]) != len(B):\n",
    "        raise ValueError(\"Matrices cannot be multiplied\")\n",
    "    C = [[0 for j in range(len(B[0]))] for i in range(len(A))]\n",
    "    for i in range(len(A)):\n",
    "        for j in range(len(B[0])):\n",
    "            for k in range(len(B)):\n",
    "                C[i][j] += A[i][k] * B[k][j]\n",
    "\n",
    "    return C"
   ]
  },
  {
   "cell_type": "markdown",
   "id": "581a26c8",
   "metadata": {},
   "source": [
    "### 2) What’s the complexity of your algorithm (using big-O nota.on)?"
   ]
  },
  {
   "cell_type": "markdown",
   "id": "11e09e7b",
   "metadata": {},
   "source": [
    "The complexity of this algorithm is $O(n^3)$"
   ]
  },
  {
   "cell_type": "markdown",
   "id": "938c5fe3",
   "metadata": {},
   "source": [
    "### 3) Write the same func.on in C. (bonus) "
   ]
  },
  {
   "cell_type": "code",
   "execution_count": 22,
   "id": "36fbab82",
   "metadata": {},
   "outputs": [
    {
     "ename": "SyntaxError",
     "evalue": "invalid syntax (1230698169.py, line 3)",
     "output_type": "error",
     "traceback": [
      "\u001b[1;36m  File \u001b[1;32m\"C:\\Users\\hp\\AppData\\Local\\Temp\\ipykernel_13856\\1230698169.py\"\u001b[1;36m, line \u001b[1;32m3\u001b[0m\n\u001b[1;33m    void matrix_multiply(int **A, int **B, int **C, int m, int n, int p) {\u001b[0m\n\u001b[1;37m         ^\u001b[0m\n\u001b[1;31mSyntaxError\u001b[0m\u001b[1;31m:\u001b[0m invalid syntax\n"
     ]
    }
   ],
   "source": [
    "#include <stdio.h>\n",
    "\n",
    "void matrix_multiply(int **A, int **B, int **C, int m, int n, int p) {\n",
    "    for (int i = 0; i < m; i++) {\n",
    "        for (int j = 0; j < p; j++) {\n",
    "            C[i][j] = 0;\n",
    "            for (int k = 0; k < n; k++) {\n",
    "                C[i][j] += A[i][k] * B[k][j];\n",
    "            }\n",
    "        }\n",
    "    }\n",
    "}\n",
    "\n",
    "int main() {\n",
    "    int m = 2, n = 3, p = 2;\n",
    "    int **A = (int **)malloc(m * sizeof(int *));\n",
    "    int **B = (int **)malloc(n * sizeof(int *));\n",
    "    int **C = (int **)malloc(m * sizeof(int *));\n",
    "    for (int i = 0; i < m; i++) {\n",
    "        A[i] = (int *)malloc(n * sizeof(int));\n",
    "        C[i] = (int *)malloc(p * sizeof(int));\n",
    "        for (int j = 0; j < n; j++) {\n",
    "            A[i][j] = i + j;\n",
    "        }\n",
    "    }\n",
    "    for (int i = 0; i < n; i++) {\n",
    "        B[i] = (int *)malloc(p * sizeof(int));\n",
    "        for (int j = 0; j < p; j++) {\n",
    "            B[i][j] = i + j + 1;\n",
    "        }\n",
    "    }\n",
    "    matrix_multiply(A, B, C, m, n, p);\n",
    "    printf(\"A x B =\\n\");\n",
    "    for (int i = 0; i < m; i++) {\n",
    "        for (int j = 0; j < p; j++) {\n",
    "            printf(\"%d \", C[i][j]);\n",
    "        }\n",
    "        printf(\"\\n\");\n",
    "    }\n",
    "    return 0;\n",
    "}"
   ]
  },
  {
   "cell_type": "markdown",
   "id": "b36a5eae",
   "metadata": {},
   "source": [
    "### 4) Op.mize this mul.plica.on and describe each step of your op.misa.on."
   ]
  },
  {
   "cell_type": "code",
   "execution_count": 23,
   "id": "53732221",
   "metadata": {},
   "outputs": [],
   "source": [
    "def matrix_multiplication(A, B):\n",
    "    m, n = len(A), len(A[0])\n",
    "    nB = len(B[0])\n",
    "    res = [[0]*nB for _ in range(m)]\n",
    "    \n",
    "    for i, row in enumerate(A):\n",
    "        for j, col in enumerate(zip(*B)):\n",
    "            res[i][j] = sum([row[k]*col[k] for k in range(n)])\n",
    "    \n",
    "    return res"
   ]
  },
  {
   "cell_type": "markdown",
   "id": "dfe6cc74",
   "metadata": {},
   "source": [
    "# Quiz"
   ]
  },
  {
   "cell_type": "markdown",
   "id": "ab8960db",
   "metadata": {},
   "source": [
    "### 1) What will be the time complexity for the following fragment of code?"
   ]
  },
  {
   "cell_type": "code",
   "execution_count": null,
   "id": "2cccc0ea",
   "metadata": {},
   "outputs": [],
   "source": [
    "C = 10 \n",
    "B = 0\n",
    "for i in range (n):\n",
    "    B += i*C"
   ]
  },
  {
   "cell_type": "markdown",
   "id": "6d8b3bdb",
   "metadata": {},
   "source": [
    "A) O(n)"
   ]
  },
  {
   "cell_type": "markdown",
   "id": "943d83e1",
   "metadata": {},
   "source": [
    "### 2) What will be the .me complexity for the following fragment of code?"
   ]
  },
  {
   "cell_type": "code",
   "execution_count": null,
   "id": "655e020b",
   "metadata": {},
   "outputs": [],
   "source": [
    "i = 0\n",
    "while i < n :\n",
    "    i *= k"
   ]
  },
  {
   "cell_type": "markdown",
   "id": "a0d8492b",
   "metadata": {},
   "source": [
    "D) O(log(n))\n",
    "\n"
   ]
  },
  {
   "cell_type": "markdown",
   "id": "58027fe2",
   "metadata": {},
   "source": [
    "### 3) What will be the .me complexity for the following fragment of code?"
   ]
  },
  {
   "cell_type": "code",
   "execution_count": null,
   "id": "65e82afa",
   "metadata": {},
   "outputs": [],
   "source": [
    "for i in range(n): \n",
    "    for j in range(m):"
   ]
  },
  {
   "cell_type": "markdown",
   "id": "6ea35fb6",
   "metadata": {},
   "source": [
    "C)O(m*n)"
   ]
  },
  {
   "cell_type": "code",
   "execution_count": null,
   "id": "eeff96b7",
   "metadata": {},
   "outputs": [],
   "source": []
  }
 ],
 "metadata": {
  "kernelspec": {
   "display_name": "Python 3 (ipykernel)",
   "language": "python",
   "name": "python3"
  },
  "language_info": {
   "codemirror_mode": {
    "name": "ipython",
    "version": 3
   },
   "file_extension": ".py",
   "mimetype": "text/x-python",
   "name": "python",
   "nbconvert_exporter": "python",
   "pygments_lexer": "ipython3",
   "version": "3.9.7"
  }
 },
 "nbformat": 4,
 "nbformat_minor": 5
}
