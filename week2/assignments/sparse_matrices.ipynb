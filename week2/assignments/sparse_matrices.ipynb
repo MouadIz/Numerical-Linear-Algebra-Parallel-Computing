{
 "cells": [
  {
   "cell_type": "markdown",
   "id": "aea03da3",
   "metadata": {},
   "source": [
    "In this assignement, feel free to use the `sparse` module from `scipy`."
   ]
  },
  {
   "cell_type": "markdown",
   "id": "2df42bcc",
   "metadata": {},
   "source": [
    "Use the cell below for your imports."
   ]
  },
  {
   "cell_type": "code",
   "execution_count": 40,
   "id": "e9644e55",
   "metadata": {},
   "outputs": [],
   "source": [
    "from scipy.sparse import csr_matrix\n",
    "import numpy as np\n",
    "import scipy.sparse as sp"
   ]
  },
  {
   "cell_type": "markdown",
   "id": "8948a816",
   "metadata": {},
   "source": [
    "implement the function `mat_mul_coo` that takes two sparse matrices in `coo` and returns their product."
   ]
  },
  {
   "cell_type": "code",
   "execution_count": 14,
   "id": "6047ee0e",
   "metadata": {},
   "outputs": [],
   "source": [
    "import numpy as np\n",
    "from scipy.sparse import coo_matrix\n",
    "from scipy.sparse import csr_matrix\n",
    "\n",
    "def mat_mul_coo(A, B):\n",
    "    if A.shape[1] != B.shape[0]:\n",
    "        raise ValueError(\"Incompatible shapes\")\n",
    "\n",
    "    A_coo = coo_matrix(A)\n",
    "    B_coo = coo_matrix(B)\n",
    "\n",
    "    rows = []\n",
    "    cols = []\n",
    "    vals = []\n",
    "\n",
    "    for i, j, a in zip(A_coo.row, A_coo.col, A_coo.data):\n",
    "        for k, l, b in zip(B_coo.row, B_coo.col, B_coo.data):\n",
    "            if j == k:\n",
    "                rows.append(i)\n",
    "                cols.append(l)\n",
    "                vals.append(a * b)\n",
    "\n",
    "    C = coo_matrix((vals, (rows, cols)), shape=(A.shape[0], B.shape[1]))\n",
    "    return csr_matrix(C)"
   ]
  },
  {
   "cell_type": "code",
   "execution_count": 15,
   "id": "eaba8238",
   "metadata": {},
   "outputs": [
    {
     "name": "stdout",
     "output_type": "stream",
     "text": [
      "A:\n",
      "[[0 1 0]\n",
      " [2 0 3]\n",
      " [0 4 0]]\n",
      "B:\n",
      "[[5 0 6]\n",
      " [0 7 0]\n",
      " [8 0 9]]\n",
      "C:\n",
      "[[ 0  7  0]\n",
      " [34  0 39]\n",
      " [ 0 28  0]]\n"
     ]
    }
   ],
   "source": [
    "A = np.array([[0, 1, 0], [2, 0, 3], [0, 4, 0]])\n",
    "B = np.array([[5, 0, 6], [0, 7, 0], [8, 0, 9]])\n",
    "\n",
    "print(\"A:\")\n",
    "print(A)\n",
    "print(\"B:\")\n",
    "print(B)\n",
    "\n",
    "C = mat_mul_coo(A, B)\n",
    "print(\"C:\")\n",
    "print(C.toarray())"
   ]
  },
  {
   "cell_type": "markdown",
   "id": "4a626dec",
   "metadata": {},
   "source": [
    "implement the function `mat_mul_csr` that takes two sparse matrices in `csr` format and returns their product."
   ]
  },
  {
   "cell_type": "code",
   "execution_count": 27,
   "id": "c2e56fbd",
   "metadata": {},
   "outputs": [],
   "source": [
    "import numpy as np\n",
    "from scipy.sparse import csr_matrix\n",
    "\n",
    "def mat_mul_csr(A, B):\n",
    " \n",
    "    data1, col_indice1, row_pointers1 = A\n",
    "    data2, col_indice2, row_pointers2 = B\n",
    "    \n",
    "    spcsr1 = csr_matrix((data1, col_indice1, row_pointers1))\n",
    "    spcsr2 = csr_matrix((data2, col_indice2, row_pointers2))\n",
    "    \n",
    "    multi_csr = csr_matrix(spcsr1.dot(spcsr2))\n",
    "    \n",
    "    data = multi_csr.data\n",
    "    col_indice = multi_csr.indices\n",
    "    row_pointers = multi_csr.indptr\n",
    "    \n",
    "    return (data, col_indice, row_pointers)"
   ]
  },
  {
   "cell_type": "code",
   "execution_count": 29,
   "id": "9a58bbb7",
   "metadata": {},
   "outputs": [
    {
     "data": {
      "text/plain": [
       "(array([ 6,  3, 21], dtype=int32),\n",
       " array([1, 0, 1], dtype=int32),\n",
       " array([0, 2, 2, 3], dtype=int32))"
      ]
     },
     "execution_count": 29,
     "metadata": {},
     "output_type": "execute_result"
    }
   ],
   "source": [
    "A = ([1, 2, 3, 4, 5], [0, 0, 1, 1, 2], [0, 2, 2, 4])\n",
    "B = ([1, 2, 3, 4], [0, 1, 1, 2], [0, 2, 3, 4])\n",
    "\n",
    "result = mat_mul_csr(A, B)\n",
    "result"
   ]
  },
  {
   "cell_type": "markdown",
   "id": "9592a90b",
   "metadata": {},
   "source": [
    "implement a function `solve_lin_sys` that takes a matrix `A` in `csr` format and a vector `b` as a numpy array and solves the system `Ax = b`."
   ]
  },
  {
   "cell_type": "code",
   "execution_count": 46,
   "id": "00edeb4c",
   "metadata": {},
   "outputs": [],
   "source": [
    "from scipy.sparse import csr_matrix\n",
    "from scipy.sparse.linalg import spsolve\n",
    "\n",
    "def solve_lin_sys(A, b):\n",
    "    \"\"\"\n",
    "    Solves the linear system Ax = b, where A is a matrix in csr format and b is a vector.\n",
    "    Returns the solution vector x.\n",
    "    \"\"\"\n",
    "    x = spsolve(csr_matrix(A), b)\n",
    "    return x"
   ]
  },
  {
   "cell_type": "code",
   "execution_count": 47,
   "id": "73025078",
   "metadata": {},
   "outputs": [
    {
     "name": "stdout",
     "output_type": "stream",
     "text": [
      "[1.51724138 2.24137931 0.06896552]\n"
     ]
    }
   ],
   "source": [
    "A = sp.csr_matrix([[1, 2, 0], [0, 3, 4], [5, 0, 6]])\n",
    "b = np.array([6, 7, 8])\n",
    "x = solve_lin_sys(A, b)\n",
    "print(x)"
   ]
  },
  {
   "cell_type": "code",
   "execution_count": null,
   "id": "e58b2b1e",
   "metadata": {},
   "outputs": [],
   "source": []
  }
 ],
 "metadata": {
  "kernelspec": {
   "display_name": "Python 3 (ipykernel)",
   "language": "python",
   "name": "python3"
  },
  "language_info": {
   "codemirror_mode": {
    "name": "ipython",
    "version": 3
   },
   "file_extension": ".py",
   "mimetype": "text/x-python",
   "name": "python",
   "nbconvert_exporter": "python",
   "pygments_lexer": "ipython3",
   "version": "3.9.7"
  }
 },
 "nbformat": 4,
 "nbformat_minor": 5
}
