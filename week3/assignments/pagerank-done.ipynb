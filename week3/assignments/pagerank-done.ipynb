{
 "cells": [
  {
   "cell_type": "markdown",
   "id": "87d64ccf",
   "metadata": {},
   "source": [
    "Use this cell for all your imports"
   ]
  },
  {
   "cell_type": "code",
   "execution_count": 24,
   "id": "40623a0d",
   "metadata": {},
   "outputs": [],
   "source": [
    "import numpy as np\n",
    "from scipy.sparse import coo_matrix, diags"
   ]
  },
  {
   "cell_type": "markdown",
   "id": "164f305b",
   "metadata": {},
   "source": [
    "You will be working with the file data.txt. Use this cell to load its content into the appropriate data structure."
   ]
  },
  {
   "cell_type": "code",
   "execution_count": 38,
   "id": "be42fee4",
   "metadata": {},
   "outputs": [],
   "source": [
    "# Name of the file containing the network data\n",
    "filename = \"data.txt\"\n",
    "\n",
    "# Dictionary representing the netwo\n",
    "network = {}\n",
    "\n",
    "def read_file():\n",
    "    # Open the file and read it's content\n",
    "    with open(filename, 'r') as f:\n",
    "        # Iterate over each line in the file\n",
    "        for line in f:\n",
    "            # Extract the nodes from the line\n",
    "            nodes = line.strip().split()\n",
    "            \n",
    "            # Skip lines that do not have exactly two nodes\n",
    "            if len(nodes) != 2:\n",
    "                continue\n",
    "            # Convert node values to integers\n",
    "            from_node = int(nodes[0])\n",
    "            to_node = int(nodes[1])\n",
    "\n",
    "            # Add the nodes to the network dictionary\n",
    "            if from_node not in network:\n",
    "                network[from_node] = []\n",
    "            if to_node not in network:\n",
    "                network[to_node] = []\n",
    "            network[from_node].append(to_node)\n",
    "    \n",
    "    # Return the constructed network dictionary\n",
    "    return network\n",
    "\n",
    "data= read_file()\n",
    "#data\n"
   ]
  },
  {
   "cell_type": "markdown",
   "id": "4c7a8af4",
   "metadata": {},
   "source": [
    "Use this cell to normalize the matrix as you see fit."
   ]
  },
  {
   "cell_type": "code",
   "execution_count": 31,
   "id": "2e612783",
   "metadata": {},
   "outputs": [],
   "source": [
    "\n",
    "def to_coo_matrix(data_dict):\n",
    "    # Initialize empty lists to store the row, column, and data values for the COO matrix\n",
    "    rows = []\n",
    "    cols = []\n",
    "    values = []\n",
    "\n",
    "    # Loop over the dictionary and populate the COO matrix\n",
    "    row_index = 0\n",
    "    for key, neighbors in data_dict.items():\n",
    "        for neighbor in neighbors:\n",
    "            rows.append(row_index)\n",
    "            cols.append(neighbor)\n",
    "            values.append(1)\n",
    "        row_index += 1\n",
    "\n",
    "    matrix_coo = coo_matrix((values, (rows, cols)))\n",
    "\n",
    "    row_sums = np.array(matrix_coo.sum(axis=1)).flatten()\n",
    "    diagonal = diags(row_sums)\n",
    "\n",
    "    # Compute D^-1 * matrix_coo to normalize the matrix\n",
    "    matrix_coo = diagonal.power(-1) * matrix_coo\n",
    "\n",
    "    return matrix_coo\n",
    "\n"
   ]
  },
  {
   "cell_type": "code",
   "execution_count": 32,
   "id": "a945c227",
   "metadata": {},
   "outputs": [
    {
     "name": "stderr",
     "output_type": "stream",
     "text": [
      "C:\\Users\\hp\\anaconda3\\lib\\site-packages\\scipy\\sparse\\data.py:117: RuntimeWarning: divide by zero encountered in reciprocal\n",
      "  return self._with_data(data ** n)\n"
     ]
    }
   ],
   "source": [
    "if isinstance(data, tuple):\n",
    "    data = dict(data)\n",
    "matrix_coo = to_coo_matrix(data)"
   ]
  },
  {
   "cell_type": "code",
   "execution_count": 34,
   "id": "060f3861",
   "metadata": {},
   "outputs": [
    {
     "name": "stdout",
     "output_type": "stream",
     "text": [
      "  (0, 9910268)\t0.012048192771084338\n",
      "  (0, 9910248)\t0.012048192771084338\n",
      "  (0, 9910238)\t0.012048192771084338\n",
      "  (0, 9909229)\t0.012048192771084338\n",
      "  (0, 9909120)\t0.012048192771084338\n",
      "  (0, 9909108)\t0.012048192771084338\n",
      "  (0, 9908144)\t0.012048192771084338\n",
      "  (0, 9908007)\t0.012048192771084338\n",
      "  (0, 9907041)\t0.012048192771084338\n",
      "  (0, 9905036)\t0.012048192771084338\n",
      "  (0, 9811217)\t0.012048192771084338\n",
      "  (0, 9810188)\t0.012048192771084338\n",
      "  (0, 9806094)\t0.012048192771084338\n",
      "  (0, 9805206)\t0.012048192771084338\n",
      "  (0, 9805056)\t0.012048192771084338\n",
      "  (0, 9802194)\t0.012048192771084338\n",
      "  (0, 9712042)\t0.012048192771084338\n",
      "  (0, 9712028)\t0.012048192771084338\n",
      "  (0, 9711104)\t0.012048192771084338\n",
      "  (0, 9711036)\t0.012048192771084338\n",
      "  (0, 9710230)\t0.012048192771084338\n",
      "  (0, 9707049)\t0.012048192771084338\n",
      "  (0, 9707042)\t0.012048192771084338\n",
      "  (0, 9707014)\t0.012048192771084338\n",
      "  (0, 9706005)\t0.012048192771084338\n",
      "  :\t:\n",
      "  (27764, 9606105)\t0.058823529411764705\n",
      "  (27764, 9508161)\t0.058823529411764705\n",
      "  (27764, 9502097)\t0.058823529411764705\n",
      "  (27764, 9405135)\t0.058823529411764705\n",
      "  (27766, 9908050)\t0.16666666666666666\n",
      "  (27766, 9808153)\t0.16666666666666666\n",
      "  (27766, 9805008)\t0.16666666666666666\n",
      "  (27766, 9604044)\t0.16666666666666666\n",
      "  (27766, 9502053)\t0.16666666666666666\n",
      "  (27766, 9412229)\t0.16666666666666666\n",
      "  (27767, 9908157)\t0.16666666666666666\n",
      "  (27767, 9902024)\t0.16666666666666666\n",
      "  (27767, 9704080)\t0.16666666666666666\n",
      "  (27767, 9611050)\t0.16666666666666666\n",
      "  (27767, 9610043)\t0.16666666666666666\n",
      "  (27767, 9510017)\t0.16666666666666666\n",
      "  (27768, 9306153)\t1.0\n",
      "  (27769, 9901023)\t0.125\n",
      "  (27769, 9810068)\t0.125\n",
      "  (27769, 9808140)\t0.125\n",
      "  (27769, 9806074)\t0.125\n",
      "  (27769, 9805150)\t0.125\n",
      "  (27769, 9802074)\t0.125\n",
      "  (27769, 9802015)\t0.125\n",
      "  (27769, 9707163)\t0.125\n"
     ]
    }
   ],
   "source": [
    "print(matrix_coo)"
   ]
  },
  {
   "cell_type": "markdown",
   "id": "5a4ee89a",
   "metadata": {},
   "source": [
    "Apply the PageRank algorithm to the matrix you created."
   ]
  },
  {
   "cell_type": "code",
   "execution_count": 39,
   "id": "ae9319ef",
   "metadata": {},
   "outputs": [],
   "source": [
    "import numpy as np\n",
    "from scipy.sparse import coo_matrix, diags\n",
    "from scipy.sparse.linalg import eigs\n",
    "\n",
    "def to_coo_matrix(data_dict):\n",
    "    rows = []\n",
    "    cols = []\n",
    "    values = []\n",
    "\n",
    "    row_index = 0\n",
    "    for key, neighbors in data_dict.items():\n",
    "        for neighbor in neighbors:\n",
    "            rows.append(row_index)\n",
    "            cols.append(neighbor)\n",
    "            values.append(1)\n",
    "        row_index += 1\n",
    "    matrix_coo = coo_matrix((values, (rows, cols)))\n",
    "    \n",
    "    row_sums = np.array(matrix_coo.sum(axis=1)).flatten()\n",
    "    diagonal = diags(row_sums)\n",
    "\n",
    "    # Compute D^-1 * matrix_coo to normalize the matrix\n",
    "    matrix_coo = diagonal.power(-1) * matrix_coo\n",
    "\n",
    "    return matrix_coo\n",
    "\n",
    "\n"
   ]
  },
  {
   "cell_type": "code",
   "execution_count": 44,
   "id": "3dd5158f",
   "metadata": {},
   "outputs": [
    {
     "name": "stderr",
     "output_type": "stream",
     "text": [
      "C:\\Users\\hp\\anaconda3\\lib\\site-packages\\scipy\\sparse\\data.py:117: RuntimeWarning: divide by zero encountered in reciprocal\n",
      "  return self._with_data(data ** n)\n"
     ]
    },
    {
     "ename": "MemoryError",
     "evalue": "Unable to allocate 5.75 GiB for an array with shape (27770, 27770) and data type float64",
     "output_type": "error",
     "traceback": [
      "\u001b[1;31m---------------------------------------------------------------------------\u001b[0m",
      "\u001b[1;31mMemoryError\u001b[0m                               Traceback (most recent call last)",
      "\u001b[1;32m~\\AppData\\Local\\Temp\\ipykernel_21428\\1306528057.py\u001b[0m in \u001b[0;36m<cell line: 9>\u001b[1;34m()\u001b[0m\n\u001b[0;32m      7\u001b[0m \u001b[0mv\u001b[0m \u001b[1;33m=\u001b[0m \u001b[0mnp\u001b[0m\u001b[1;33m.\u001b[0m\u001b[0mones\u001b[0m\u001b[1;33m(\u001b[0m\u001b[1;33m(\u001b[0m\u001b[0mn\u001b[0m\u001b[1;33m,\u001b[0m \u001b[1;36m1\u001b[0m\u001b[1;33m)\u001b[0m\u001b[1;33m)\u001b[0m \u001b[1;33m/\u001b[0m \u001b[0mn\u001b[0m\u001b[1;33m\u001b[0m\u001b[1;33m\u001b[0m\u001b[0m\n\u001b[0;32m      8\u001b[0m \u001b[0mbeta\u001b[0m \u001b[1;33m=\u001b[0m \u001b[1;36m0.85\u001b[0m\u001b[1;33m\u001b[0m\u001b[1;33m\u001b[0m\u001b[0m\n\u001b[1;32m----> 9\u001b[1;33m \u001b[0mI\u001b[0m \u001b[1;33m=\u001b[0m \u001b[0mnp\u001b[0m\u001b[1;33m.\u001b[0m\u001b[0mones\u001b[0m\u001b[1;33m(\u001b[0m\u001b[1;33m(\u001b[0m\u001b[0mn\u001b[0m\u001b[1;33m,\u001b[0m \u001b[0mn\u001b[0m\u001b[1;33m)\u001b[0m\u001b[1;33m)\u001b[0m\u001b[1;33m\u001b[0m\u001b[1;33m\u001b[0m\u001b[0m\n\u001b[0m\u001b[0;32m     10\u001b[0m \u001b[0mM\u001b[0m \u001b[1;33m=\u001b[0m \u001b[0mbeta\u001b[0m \u001b[1;33m*\u001b[0m \u001b[0mmatrix_coo\u001b[0m \u001b[1;33m+\u001b[0m \u001b[1;33m(\u001b[0m\u001b[1;36m1\u001b[0m \u001b[1;33m-\u001b[0m \u001b[0mbeta\u001b[0m\u001b[1;33m)\u001b[0m \u001b[1;33m*\u001b[0m \u001b[1;33m(\u001b[0m\u001b[1;36m1\u001b[0m \u001b[1;33m/\u001b[0m \u001b[0mn\u001b[0m\u001b[1;33m)\u001b[0m \u001b[1;33m*\u001b[0m \u001b[0mI\u001b[0m\u001b[1;33m\u001b[0m\u001b[1;33m\u001b[0m\u001b[0m\n\u001b[0;32m     11\u001b[0m \u001b[0meigenvalues\u001b[0m\u001b[1;33m,\u001b[0m \u001b[0meigenvectors\u001b[0m \u001b[1;33m=\u001b[0m \u001b[0meigs\u001b[0m\u001b[1;33m(\u001b[0m\u001b[0mM\u001b[0m\u001b[1;33m,\u001b[0m \u001b[0mk\u001b[0m\u001b[1;33m=\u001b[0m\u001b[1;36m1\u001b[0m\u001b[1;33m,\u001b[0m \u001b[0mwhich\u001b[0m\u001b[1;33m=\u001b[0m\u001b[1;34m'LM'\u001b[0m\u001b[1;33m,\u001b[0m \u001b[0mtol\u001b[0m\u001b[1;33m=\u001b[0m\u001b[1;36m1e-6\u001b[0m\u001b[1;33m)\u001b[0m\u001b[1;33m\u001b[0m\u001b[1;33m\u001b[0m\u001b[0m\n",
      "\u001b[1;32m~\\anaconda3\\lib\\site-packages\\numpy\\core\\numeric.py\u001b[0m in \u001b[0;36mones\u001b[1;34m(shape, dtype, order, like)\u001b[0m\n\u001b[0;32m    201\u001b[0m         \u001b[1;32mreturn\u001b[0m \u001b[0m_ones_with_like\u001b[0m\u001b[1;33m(\u001b[0m\u001b[0mshape\u001b[0m\u001b[1;33m,\u001b[0m \u001b[0mdtype\u001b[0m\u001b[1;33m=\u001b[0m\u001b[0mdtype\u001b[0m\u001b[1;33m,\u001b[0m \u001b[0morder\u001b[0m\u001b[1;33m=\u001b[0m\u001b[0morder\u001b[0m\u001b[1;33m,\u001b[0m \u001b[0mlike\u001b[0m\u001b[1;33m=\u001b[0m\u001b[0mlike\u001b[0m\u001b[1;33m)\u001b[0m\u001b[1;33m\u001b[0m\u001b[1;33m\u001b[0m\u001b[0m\n\u001b[0;32m    202\u001b[0m \u001b[1;33m\u001b[0m\u001b[0m\n\u001b[1;32m--> 203\u001b[1;33m     \u001b[0ma\u001b[0m \u001b[1;33m=\u001b[0m \u001b[0mempty\u001b[0m\u001b[1;33m(\u001b[0m\u001b[0mshape\u001b[0m\u001b[1;33m,\u001b[0m \u001b[0mdtype\u001b[0m\u001b[1;33m,\u001b[0m \u001b[0morder\u001b[0m\u001b[1;33m)\u001b[0m\u001b[1;33m\u001b[0m\u001b[1;33m\u001b[0m\u001b[0m\n\u001b[0m\u001b[0;32m    204\u001b[0m     \u001b[0mmultiarray\u001b[0m\u001b[1;33m.\u001b[0m\u001b[0mcopyto\u001b[0m\u001b[1;33m(\u001b[0m\u001b[0ma\u001b[0m\u001b[1;33m,\u001b[0m \u001b[1;36m1\u001b[0m\u001b[1;33m,\u001b[0m \u001b[0mcasting\u001b[0m\u001b[1;33m=\u001b[0m\u001b[1;34m'unsafe'\u001b[0m\u001b[1;33m)\u001b[0m\u001b[1;33m\u001b[0m\u001b[1;33m\u001b[0m\u001b[0m\n\u001b[0;32m    205\u001b[0m     \u001b[1;32mreturn\u001b[0m \u001b[0ma\u001b[0m\u001b[1;33m\u001b[0m\u001b[1;33m\u001b[0m\u001b[0m\n",
      "\u001b[1;31mMemoryError\u001b[0m: Unable to allocate 5.75 GiB for an array with shape (27770, 27770) and data type float64"
     ]
    }
   ],
   "source": [
    "# Example usage\n",
    "data_dict = data\n",
    "matrix_coo = to_coo_matrix(data_dict)\n",
    "\n",
    "# Compute the PageRank scores\n",
    "n = matrix_coo.shape[0]\n",
    "v = np.ones((n, 1)) / n\n",
    "beta = 0.85\n",
    "I = np.ones((n, n))\n",
    "M = beta * matrix_coo + (1 - beta) * (1 / n) * I\n",
    "eigenvalues, eigenvectors = eigs(M, k=1, which='LM', tol=1e-6)\n",
    "pagerank = eigenvectors / np.sum(eigenvectors)\n",
    "print(pagerank)"
   ]
  },
  {
   "cell_type": "markdown",
   "id": "005047ad",
   "metadata": {},
   "source": [
    "Output a list of the 100 most important papers along with their importance"
   ]
  },
  {
   "cell_type": "code",
   "execution_count": null,
   "id": "46d1896d",
   "metadata": {},
   "outputs": [],
   "source": []
  },
  {
   "cell_type": "markdown",
   "id": "b0ba2208",
   "metadata": {},
   "source": [
    "Visualize your results"
   ]
  },
  {
   "cell_type": "code",
   "execution_count": null,
   "id": "25affee6",
   "metadata": {},
   "outputs": [],
   "source": []
  }
 ],
 "metadata": {
  "kernelspec": {
   "display_name": "Python 3 (ipykernel)",
   "language": "python",
   "name": "python3"
  },
  "language_info": {
   "codemirror_mode": {
    "name": "ipython",
    "version": 3
   },
   "file_extension": ".py",
   "mimetype": "text/x-python",
   "name": "python",
   "nbconvert_exporter": "python",
   "pygments_lexer": "ipython3",
   "version": "3.9.7"
  }
 },
 "nbformat": 4,
 "nbformat_minor": 5
}
